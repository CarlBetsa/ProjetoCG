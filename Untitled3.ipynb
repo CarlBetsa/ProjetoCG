{
  "nbformat": 4,
  "nbformat_minor": 0,
  "metadata": {
    "colab": {
      "provenance": []
    },
    "kernelspec": {
      "name": "python3",
      "display_name": "Python 3"
    },
    "language_info": {
      "name": "python"
    }
  },
  "cells": [
    {
      "cell_type": "code",
      "execution_count": 9,
      "metadata": {
        "colab": {
          "base_uri": "https://localhost:8080/"
        },
        "id": "WbPGw5M_yv1b",
        "outputId": "cbad1d2f-f116-475f-a9a6-b2b3a0c88bb9"
      },
      "outputs": [
        {
          "output_type": "stream",
          "name": "stderr",
          "text": [
            "/usr/local/lib/python3.7/dist-packages/ipykernel_launcher.py:49: DeprecationWarning: `np.int` is a deprecated alias for the builtin `int`. To silence this warning, use `int` by itself. Doing this will not modify any behavior and is safe. When replacing `np.int`, you may wish to use e.g. `np.int64` or `np.int32` to specify the precision. If you wish to review your current use, check the release note link for additional information.\n",
            "Deprecated in NumPy 1.20; for more details and guidance: https://numpy.org/devdocs/release/1.20.0-notes.html#deprecations\n",
            "/usr/local/lib/python3.7/dist-packages/ipykernel_launcher.py:14: DeprecationWarning: `np.float` is a deprecated alias for the builtin `float`. To silence this warning, use `float` by itself. Doing this will not modify any behavior and is safe. If you specifically wanted the numpy scalar type, use `np.float64` here.\n",
            "Deprecated in NumPy 1.20; for more details and guidance: https://numpy.org/devdocs/release/1.20.0-notes.html#deprecations\n",
            "  \n"
          ]
        }
      ],
      "source": [
        "import cv2\n",
        "import numpy as np\n",
        "import scipy.fftpack as fftpack\n",
        "import zlib\n",
        "\n",
        "def to_ycbcr(im):\n",
        "    xform = np.array([[.299, .587, .114], [-.1687, -.3313, .5], [.5, -.4187, -.0813]])\n",
        "    ycbcr = im.dot(xform.T)\n",
        "    ycbcr[:,:,[1,2]] += 128\n",
        "    return np.uint8(ycbcr)\n",
        "\n",
        "def to_rgb(im):\n",
        "    xform = np.array([[1, 0, 1.402], [1, -0.34414, -.71414], [1, 1.772, 0]])\n",
        "    rgb = im.astype(np.float)\n",
        "    rgb[:,:,[1,2]] -= 128\n",
        "    rgb = rgb.dot(xform.T)\n",
        "    np.putmask(rgb, rgb > 255, 255)\n",
        "    np.putmask(rgb, rgb < 0, 0)\n",
        "    return np.uint8(rgb)\n",
        "\n",
        "def to_dct(orig, bx, by):\n",
        "    new_shape = (\n",
        "        orig.shape[0] // bx * bx,\n",
        "        orig.shape[1] // by * by,\n",
        "        3\n",
        "    )\n",
        "    new = orig[\n",
        "        :new_shape[0],\n",
        "        :new_shape[1]\n",
        "    ].reshape((\n",
        "        new_shape[0] // bx,\n",
        "        bx,\n",
        "        new_shape[1] // by,\n",
        "        by,\n",
        "        3\n",
        "    ))\n",
        "    return fftpack.dctn(new, axes=[1,3], norm='ortho')\n",
        "\n",
        "\n",
        "def from_dct(orig, bx, by):\n",
        "    return fftpack.idctn(orig, axes=[1,3], norm='ortho'\n",
        "    ).reshape((\n",
        "        orig.shape[0]*bx,\n",
        "        orig.shape[2]*by,\n",
        "        3\n",
        "    ))\n",
        "\n",
        "def quant1(orig, quant):\n",
        "    return (orig / quant).astype(np.int)\n",
        "\n",
        "\n",
        "def quant2(orig, quant):\n",
        "    return (orig * quant).astype(float)\n",
        "\n",
        "def compressao(x):\n",
        "    return zlib.compress(x.astype(np.int8).tobytes())\n",
        "\n",
        "\n",
        "def descompressao(orig, shape):\n",
        "    return np.frombuffer(zlib.decompress(orig), dtype=np.int8).astype(float).reshape(shape)\n",
        "\n",
        "if __name__ == '__main__':\n",
        "    im = cv2.imread(\"horse.jpg\")\n",
        "    quants = [5, 10]\n",
        "    blocks = [(8, 8), (16, 16)]\n",
        "    for qscale in quants:\n",
        "        for bx, by in blocks:\n",
        "\n",
        "            quant = (\n",
        "                (np.ones((bx, by)) * (qscale * qscale))\n",
        "                .clip(-100, 100)\n",
        "                .reshape((1, bx, 1, by, 1))\n",
        "            )\n",
        "            ycrcb = to_ycbcr(im)\n",
        "            dct = to_dct(ycrcb, bx, by)\n",
        "            q = quant1(dct, quant)\n",
        "            comp = compressao(q)\n",
        "            dcomp = descompressao(comp, q.shape)\n",
        "            q2 = quant2(q, quant)\n",
        "            ndct = from_dct(q2, bx, by)\n",
        "            rgb = to_rgb(ndct)\n",
        "            cv2.imwrite(\"horse_quant_{}_block_{}x{}.jpg\".format(qscale, bx, by), rgb.astype(np.uint8))"
      ]
    }
  ]
}